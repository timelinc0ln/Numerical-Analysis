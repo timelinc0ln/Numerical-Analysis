{
 "cells": [
  {
   "cell_type": "markdown",
   "metadata": {},
   "source": [
    "# I. Linear least squares approximation"
   ]
  },
  {
   "cell_type": "markdown",
   "metadata": {},
   "source": [
    "Consider a function $y = f(x)$ which is defined by a set of values $y_0, y_1, \\cdots, y_n$ at points $x_0, x_1, \\cdots, x_n$."
   ]
  },
  {
   "cell_type": "code",
   "execution_count": 2,
   "metadata": {},
   "outputs": [],
   "source": [
    "x = [-1, -0.7, -0.43, -0.14, -0.14, 0.43, 0.71, 1, 1.29, 1.57, 1.86, 2.14, 2.43, 2.71, 3]\n",
    "y = [-2.25, -0.77, 0.21, 0.44, 0.64, 0.03, -0.22, -0.84, -1.2, -1.03, -0.37, 0.61, 2.67, 5.04, 8.90]"
   ]
  },
  {
   "cell_type": "markdown",
   "metadata": {},
   "source": [
    "### I.I. Find a best fit polynomial\n",
    "\n",
    "$$\n",
    "P_m(x) = a_0 + a_1 x + \\cdots + a_m x^m\n",
    "$$\n",
    "\n",
    "using the linear least squares approach. To this end\n",
    "\n",
    "1. implement a function which constructs the design matrix using $1, x, \\cdots, x^m$ as the basis functions.\n",
    "\n",
    "2. construct explicitly the normal system of equations of the linear least squares problem at fixed $m$.\n",
    "\n",
    "3. Solve the normal equations to find the coefficients of $P_m(x)$ for $m = 0, 1, 2, \\dots$. For the linear algebra problem, you can either use library functions (`numpy.linalg.solve`) or your LU factorization code from week 1.\n",
    "\n",
    "(20% of the total grade)"
   ]
  },
  {
   "cell_type": "code",
   "execution_count": 64,
   "metadata": {
    "scrolled": true
   },
   "outputs": [
    {
     "name": "stdout",
     "output_type": "stream",
     "text": [
      "Design Matrix:\n",
      "[[ 1.     -1.      1.    ]\n",
      " [ 1.     -0.7     0.49  ]\n",
      " [ 1.     -0.43    0.1849]\n",
      " [ 1.     -0.14    0.0196]\n",
      " [ 1.     -0.14    0.0196]\n",
      " [ 1.      0.43    0.1849]\n",
      " [ 1.      0.71    0.5041]\n",
      " [ 1.      1.      1.    ]\n",
      " [ 1.      1.29    1.6641]\n",
      " [ 1.      1.57    2.4649]\n",
      " [ 1.      1.86    3.4596]\n",
      " [ 1.      2.14    4.5796]\n",
      " [ 1.      2.43    5.9049]\n",
      " [ 1.      2.71    7.3441]\n",
      " [ 1.      3.      9.    ]]\n",
      "Parameter coefficents:\n",
      "[[-1.25772058]\n",
      " [-0.65313865]\n",
      " [ 1.0667959 ]]\n"
     ]
    }
   ],
   "source": [
    "import numpy as np\n",
    "import pandas as pd\n",
    "from numpy.linalg import inv\n",
    "\n",
    "def best_fit(x, y, m = 1):\n",
    "    \"\"\"\n",
    "    Inputs: \n",
    "    x: feature variable vector\n",
    "    y: response variable vector\n",
    "    \n",
    "    Outputs:\n",
    "    beta: parameter ceofficents \n",
    "    \"\"\"\n",
    "    # create design matrix\n",
    "    x1 = np.array(x)[np.newaxis]\n",
    "    y1 = np.array(y)[np.newaxis]\n",
    "    col1 = np.ones(len(x))[np.newaxis]\n",
    "    design_matrix = np.concatenate((col1.transpose(), x1.transpose()), axis = 1)\n",
    "    # fill the matrix for the specified m\n",
    "    for i in range(1, m): \n",
    "        # skip index 0 because we arleady did it\n",
    "        power_array = col1 + i\n",
    "        temp = np.power(x1, power_array)\n",
    "        design_matrix = np.concatenate((design_matrix, temp.transpose()), axis = 1)\n",
    "    print(\"Design Matrix:\")\n",
    "    print(design_matrix)\n",
    "        \n",
    "\n",
    "    beta = inv(design_matrix.transpose() @ design_matrix) @ design_matrix.transpose() @ y1.transpose()\n",
    "    return beta\n",
    "\n",
    "pcoeff = best_fit(x, y , 2)\n",
    "print(\"Parameter coefficents:\")\n",
    "print(pcoeff)"
   ]
  },
  {
   "cell_type": "markdown",
   "metadata": {},
   "source": [
    "### I.II \n",
    "\n",
    "To find the optimal value of m, use the following criterion: take $m=0, 1, 2, \\dots$, for each value of $m$ compute \n",
    "\n",
    "$$\n",
    "\\sigma_m^2 = \\frac{1}{n - m} \\sum_{k=0}^n \\left( P_m(x_k) - y_k \\right)^2\n",
    "$$\n",
    "\n",
    "And take the value of $m$, at which $\\sigma_m$ stabilizes or starts increasing.\n",
    "\n",
    "(20% of the total grade)"
   ]
  },
  {
   "cell_type": "code",
   "execution_count": 134,
   "metadata": {},
   "outputs": [
    {
     "name": "stdout",
     "output_type": "stream",
     "text": [
      "m equals:\n",
      "0\n",
      "Output: \n",
      "8.120533333333334\n",
      "m equals:\n",
      "1\n",
      "Output: \n",
      "[12.6958371]\n",
      "m equals:\n",
      "2\n",
      "Output: \n",
      "[42.8878154]\n",
      "m equals:\n",
      "3\n",
      "Output: \n",
      "[131.05275611]\n"
     ]
    }
   ],
   "source": [
    "def best_fit1(x, y, m = 1):\n",
    "    \"\"\"\n",
    "    This does the same thing as the other one but removes the print statements for brevity \n",
    "    \n",
    "    Inputs: \n",
    "    x: feature variable vector\n",
    "    y: response variable vector\n",
    "    \n",
    "    Outputs:\n",
    "    beta: parameter ceofficents \n",
    "    \"\"\"\n",
    "    # create design matrix\n",
    "    x1 = np.array(x)[np.newaxis]\n",
    "    y1 = np.array(y)[np.newaxis]\n",
    "    col1 = np.ones(len(x))[np.newaxis]\n",
    "    design_matrix = np.concatenate((col1.transpose(), x1.transpose()), axis = 1)\n",
    "    # fill the matrix for the specified m\n",
    "    for i in range(1, m): \n",
    "        # skip index 0 because we arleady did it\n",
    "        power_array = col1 + i\n",
    "        temp = np.power(x1, power_array)\n",
    "        design_matrix = np.concatenate((design_matrix, temp.transpose()), axis = 1)\n",
    "    #print(\"Design Matrix:\")\n",
    "    #print(design_matrix)\n",
    "        \n",
    "\n",
    "    beta = inv(design_matrix.transpose() @ design_matrix) @ design_matrix.transpose() @ y1.transpose()\n",
    "    return beta\n",
    "\n",
    "def compute_poly(pm, x, m):\n",
    "    xval = 0\n",
    "    for i in range(m):\n",
    "        if i == 0:\n",
    "            xval += pm[i]\n",
    "        if i == 1:\n",
    "            xval += pm[i] * x\n",
    "        xval += pm[i] * x**(i)\n",
    "    return xval\n",
    "\n",
    "def optimal_m(x, y, mval):\n",
    "    for m in range(mval):\n",
    "        print(\"m equals:\")\n",
    "        print(m)\n",
    "        pm = best_fit1(x, y, m)\n",
    "        if (len(x) - m) == 0:\n",
    "            pass\n",
    "        else:\n",
    "            lead_coeff = 1/(len(x) - m)\n",
    "            temp = 0\n",
    "            for i in range(len(x)):\n",
    "                pmx = compute_poly(pm, x[i], m)\n",
    "                temp += (pmx - y[i])**2\n",
    "            mval = temp * lead_coeff\n",
    "            print(\"Output: \")\n",
    "            print(mval)\n",
    "            \n",
    "optimal_m(x, y, 4)\n",
    "# optimal value of m is approximately 4"
   ]
  },
  {
   "cell_type": "markdown",
   "metadata": {},
   "source": [
    "Plot your polynomials $P_m(x)$ on one plot, together with the datapoints. Visually compare best-fit polynomials of different degrees. Is the visual comparison consistent with the optimal value of $m$?"
   ]
  },
  {
   "cell_type": "code",
   "execution_count": 139,
   "metadata": {},
   "outputs": [
    {
     "data": {
      "text/plain": [
       "[<matplotlib.lines.Line2D at 0x1f658a5c160>]"
      ]
     },
     "execution_count": 139,
     "metadata": {},
     "output_type": "execute_result"
    },
    {
     "data": {
      "image/png": "[encoded data removed]",
      "text/plain": [
       "<Figure size 432x288 with 1 Axes>"
      ]
     },
     "metadata": {
      "needs_background": "light"
     },
     "output_type": "display_data"
    }
   ],
   "source": [
    "import matplotlib.pyplot as plt\n",
    "\n",
    "plt.plot(x,y)\n",
    "\n",
    "def best_fit2(x, y, m = 1):\n",
    "    \"\"\"\n",
    "    This does the same thing as the other one but removes the print statements for brevity \n",
    "    \n",
    "    Inputs: \n",
    "    x: feature variable vector\n",
    "    y: response variable vector\n",
    "    \n",
    "    Outputs:\n",
    "    beta: parameter ceofficents \n",
    "    \"\"\"\n",
    "    # create design matrix\n",
    "    x1 = np.array(x)[np.newaxis]\n",
    "    y1 = np.array(y)[np.newaxis]\n",
    "    col1 = np.ones(len(x))[np.newaxis]\n",
    "    design_matrix = np.concatenate((col1.transpose(), x1.transpose()), axis = 1)\n",
    "    # fill the matrix for the specified m\n",
    "    for i in range(1, m): \n",
    "        # skip index 0 because we arleady did it\n",
    "        power_array = col1 + i\n",
    "        temp = np.power(x1, power_array)\n",
    "        design_matrix = np.concatenate((design_matrix, temp.transpose()), axis = 1)\n",
    "    #print(\"Design Matrix:\")\n",
    "    #print(design_matrix)\n",
    "        \n",
    "\n",
    "    beta = inv(design_matrix.transpose() @ design_matrix) @ design_matrix.transpose() @ y1.transpose()\n",
    "    return beta\n",
    "\n",
    "def compute_poly(pm, x, m):\n",
    "    xval = 0\n",
    "    for i in range(m):\n",
    "        if i == 0:\n",
    "            xval += pm[i]\n",
    "        if i == 1:\n",
    "            xval += pm[i] * x\n",
    "        xval += pm[i] * x**(i)\n",
    "    return xval\n",
    "\n",
    "def create_y(x, y, mval):\n",
    "    yval = []\n",
    "    pm = best_fit2(x, y, mval)\n",
    "    for i in range(len(x)):\n",
    "        pmx = compute_poly(pm, x[i], mval)\n",
    "        yval.append(pmx[0])\n",
    "    return yval\n",
    "    \n",
    "y1 = create_y(x, y, 4)\n",
    "plt.plot(x, y1)"
   ]
  },
  {
   "cell_type": "markdown",
   "metadata": {},
   "source": [
    "### I.III. Linear least-squares using the QR factorization.\n",
    "\n",
    "For the optimal value of $m$ from the previous part, solve the LLS problem using the QR factorization, without ever forming the normal equations explicitly. For linear algebra, you can use standard library functions (look up `numpy.linalg.solve`, `numpy.linalg.qr` etc) or your code from previous weeks.\n",
    "\n",
    "Compare the results with the results of solving the normal system of equations.\n",
    "\n",
    "(20% of the grade)"
   ]
  },
  {
   "cell_type": "code",
   "execution_count": 156,
   "metadata": {},
   "outputs": [
    {
     "name": "stdout",
     "output_type": "stream",
     "text": [
      "[ 0.51184244 -0.33857023 -2.05689291  1.08931365 -0.01872316]\n"
     ]
    }
   ],
   "source": [
    "from scipy.linalg import qr\n",
    "\n",
    "def qr_lls(x, y, m = 1):\n",
    "    \"\"\"\n",
    "    This does the same thing as the other one but removes the print statements for brevity \n",
    "    \n",
    "    Inputs: \n",
    "    x: feature variable vector\n",
    "    y: response variable vector\n",
    "    \n",
    "    Outputs:\n",
    "    beta: parameter ceofficents \n",
    "    \"\"\"\n",
    "    # create design matrix\n",
    "    x1 = np.array(x)[np.newaxis]\n",
    "    y1 = np.array(y)[np.newaxis]\n",
    "    col1 = np.ones(len(x))[np.newaxis]\n",
    "    design_matrix = np.concatenate((col1.transpose(), x1.transpose()), axis = 1)\n",
    "    # fill the matrix for the specified m\n",
    "    for i in range(1, m): \n",
    "        # skip index 0 because we arleady did it\n",
    "        power_array = col1 + i\n",
    "        temp = np.power(x1, power_array)\n",
    "        design_matrix = np.concatenate((design_matrix, temp.transpose()), axis = 1)\n",
    "    q, r = qr(design_matrix)\n",
    "    y_f = q.transpose() \n",
    "    f = y_f[:5] @ y     \n",
    "    beta = np.linalg.solve(r[:5], f)\n",
    "    #beta = inv(design_matrix.transpose() @ design_matrix) @ design_matrix.transpose() @ y1.transpose()\n",
    "    return beta\n",
    "\n",
    "solution = qr_lls(x, y, 4)\n",
    "print(solution)"
   ]
  },
  {
   "cell_type": "markdown",
   "metadata": {},
   "source": [
    "# II. Lagrange interpolation"
   ]
  },
  {
   "cell_type": "markdown",
   "metadata": {},
   "source": [
    "### II.1 \n",
    "\n",
    "Consider the function, $f(x) = x^2 \\cos{x}$. On the interval $x\\in [\\pi/2, \\pi]$, interpolate the function using the Lagrange interpolating polynomial of degree $m$ with $m=1, 2, 3, 4, 5$. Use the uniform mesh. Plot the resulting interpolants together with $f(x)$.\n",
    "\n",
    "(20% of the total grade)"
   ]
  },
  {
   "cell_type": "code",
   "execution_count": 186,
   "metadata": {},
   "outputs": [
    {
     "data": {
      "image/png": "[encoded data removed]",
      "text/plain": [
       "<Figure size 432x288 with 1 Axes>"
      ]
     },
     "metadata": {
      "needs_background": "light"
     },
     "output_type": "display_data"
    }
   ],
   "source": [
    "import math\n",
    "\n",
    "def f(x):\n",
    "    return (x**2) * math.cos(x)\n",
    "\n",
    "class LagrangePoly():\n",
    "    def __init__(self, X, Y):\n",
    "        self.n = len(X)\n",
    "        self.X = np.array(X)\n",
    "        self.Y = np.array(Y)\n",
    "\n",
    "    def basis(self, x, j):\n",
    "        b = [(x - self.X[m]) / (self.X[j] - self.X[m])\n",
    "             for m in range(self.n) if m != j]\n",
    "        return np.prod(b, axis=0) * self.Y[j]\n",
    "\n",
    "    def interpolate(self, x):\n",
    "        b = [self.basis(x, j) for j in range(self.n)]\n",
    "        return np.sum(b, axis=0)\n",
    "\n",
    "\n",
    "X  = np.linspace(math.pi/2, math.pi, 6) \n",
    "Y = []\n",
    "for i in range(len(X)):\n",
    "    temp = f(X[i])\n",
    "    Y.append(temp)\n",
    "\n",
    "plt.scatter(X, Y)\n",
    "\n",
    "lp = LagrangePoly(X, Y)\n",
    "\n",
    "xx = np.linspace(math.pi/2, math.pi) \n",
    "\n",
    "plt.plot(xx, lp.basis(xx, 0))\n",
    "plt.plot(xx, lp.basis(xx, 1))\n",
    "plt.plot(xx, lp.basis(xx, 2))\n",
    "plt.plot(xx, lp.basis(xx, 3))\n",
    "plt.plot(xx, lp.basis(xx, 4))\n",
    "plt.plot(xx, lp.basis(xx, 5))\n",
    "plt.plot(xx, lp.interpolate(xx), linestyle=':')\n",
    "plt.show()"
   ]
  },
  {
   "cell_type": "markdown",
   "metadata": {},
   "source": [
    "### II.2. \n",
    "\n",
    "Repeat the previous task using the Chebyshev nodes. Compare the quality of interpolation on a uniform mesh and Chebyshev nodes for $m=3$.\n",
    "\n",
    "(20% of the total grade)"
   ]
  },
  {
   "cell_type": "code",
   "execution_count": 189,
   "metadata": {},
   "outputs": [
    {
     "ename": "TypeError",
     "evalue": "unsupported operand type(s) for ** or pow(): 'list' and 'int'",
     "output_type": "error",
     "traceback": [
      "\u001b[1;31m---------------------------------------------------------------------------\u001b[0m",
      "\u001b[1;31mTypeError\u001b[0m                                 Traceback (most recent call last)",
      "\u001b[1;32m<ipython-input-189-c5bce54b26c1>\u001b[0m in \u001b[0;36m<module>\u001b[1;34m\u001b[0m\n\u001b[1;32m----> 1\u001b[1;33m \u001b[0mnp\u001b[0m\u001b[1;33m.\u001b[0m\u001b[0mpolynomial\u001b[0m\u001b[1;33m.\u001b[0m\u001b[0mchebyshev\u001b[0m\u001b[1;33m.\u001b[0m\u001b[0mChebyshev\u001b[0m\u001b[1;33m.\u001b[0m\u001b[0minterpolate\u001b[0m\u001b[1;33m(\u001b[0m\u001b[0mf\u001b[0m\u001b[1;33m(\u001b[0m\u001b[1;33m(\u001b[0m\u001b[0mx\u001b[0m\u001b[1;33m**\u001b[0m\u001b[1;36m2\u001b[0m\u001b[1;33m)\u001b[0m \u001b[1;33m*\u001b[0m \u001b[0mmath\u001b[0m\u001b[1;33m.\u001b[0m\u001b[0mcos\u001b[0m\u001b[1;33m(\u001b[0m\u001b[0mx\u001b[0m\u001b[1;33m)\u001b[0m\u001b[1;33m)\u001b[0m\u001b[1;33m,\u001b[0m \u001b[1;36m3\u001b[0m\u001b[1;33m)\u001b[0m\u001b[1;33m\u001b[0m\u001b[1;33m\u001b[0m\u001b[0m\n\u001b[0m",
      "\u001b[1;31mTypeError\u001b[0m: unsupported operand type(s) for ** or pow(): 'list' and 'int'"
     ]
    }
   ],
   "source": [
    "np.polynomial.Chebyshev.interpolate(f(X), 3)"
   ]
  },
  {
   "cell_type": "code",
   "execution_count": null,
   "metadata": {},
   "outputs": [],
   "source": []
  }
 ],
 "metadata": {
  "kernelspec": {
   "display_name": "Python 3",
   "language": "python",
   "name": "python3"
  },
  "language_info": {
   "codemirror_mode": {
    "name": "ipython",
    "version": 3
   },
   "file_extension": ".py",
   "mimetype": "text/x-python",
   "name": "python",
   "nbconvert_exporter": "python",
   "pygments_lexer": "ipython3",
   "version": "3.8.3"
  }
 },
 "nbformat": 4,
 "nbformat_minor": 2
}
