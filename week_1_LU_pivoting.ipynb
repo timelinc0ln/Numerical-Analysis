{
 "cells": [
  {
   "cell_type": "markdown",
   "metadata": {},
   "source": [
    "# I. $LU$ factorization of a square matrix"
   ]
  },
  {
   "cell_type": "markdown",
   "metadata": {},
   "source": [
    "Consider a simple naive implementation of the LU decomposition. \n",
    "\n",
    "Note that we're using the `numpy` arrays to represent matrices [do **not** use `np.matrix`]."
   ]
  },
  {
   "cell_type": "code",
   "execution_count": 63,
   "metadata": {},
   "outputs": [],
   "source": [
    "import numpy as np\n",
    "\n",
    "def diy_lu(a):\n",
    "    \"\"\"Construct the LU decomposition of the input matrix.\n",
    "    \n",
    "    Naive LU decomposition: work column by column, accumulate elementary triangular matrices.\n",
    "    No pivoting.\n",
    "    \"\"\"\n",
    "    N = a.shape[0]\n",
    "    \n",
    "    u = a.copy()\n",
    "    L = np.eye(N)\n",
    "    for j in range(N-1):\n",
    "        lam = np.eye(N)\n",
    "        gamma = u[j+1:, j] / u[j, j]\n",
    "        lam[j+1:, j] = -gamma\n",
    "        u = lam @ u\n",
    "\n",
    "        lam[j+1:, j] = gamma\n",
    "        L = L @ lam\n",
    "    return L, u"
   ]
  },
  {
   "cell_type": "code",
   "execution_count": 64,
   "metadata": {},
   "outputs": [
    {
     "data": {
      "text/plain": [
       "6"
      ]
     },
     "execution_count": 64,
     "metadata": {},
     "output_type": "execute_result"
    }
   ],
   "source": [
    "# Now, generate a full rank matrix and test the naive implementation\n",
    "\n",
    "import numpy as np\n",
    "\n",
    "N = 6\n",
    "a = np.zeros((N, N), dtype=float)\n",
    "for i in range(N):\n",
    "    for j in range(N):\n",
    "        a[i, j] = 3. / (0.6*i*j + 1)\n",
    "\n",
    "np.linalg.matrix_rank(a)"
   ]
  },
  {
   "cell_type": "code",
   "execution_count": 65,
   "metadata": {},
   "outputs": [],
   "source": [
    "# Tweak the printing of floating-point numbers, for clarity\n",
    "np.set_printoptions(precision=3)"
   ]
  },
  {
   "cell_type": "code",
   "execution_count": 66,
   "metadata": {},
   "outputs": [
    {
     "name": "stdout",
     "output_type": "stream",
     "text": [
      "[[3.    3.    3.    3.    3.    3.   ]\n",
      " [3.    1.875 1.364 1.071 0.882 0.75 ]\n",
      " [3.    1.364 0.882 0.652 0.517 0.429]\n",
      " [3.    1.071 0.652 0.469 0.366 0.3  ]\n",
      " [3.    0.882 0.517 0.366 0.283 0.231]\n",
      " [3.    0.75  0.429 0.3   0.231 0.188]]\n",
      "[[1.    0.    0.    0.    0.    0.   ]\n",
      " [1.    1.    0.    0.    0.    0.   ]\n",
      " [1.    1.455 1.    0.    0.    0.   ]\n",
      " [1.    1.714 1.742 1.    0.    0.   ]\n",
      " [1.    1.882 2.276 2.039 1.    0.   ]\n",
      " [1.    2.    2.671 2.944 2.354 1.   ]] \n",
      "\n",
      "[[ 3.000e+00  3.000e+00  3.000e+00  3.000e+00  3.000e+00  3.000e+00]\n",
      " [ 0.000e+00 -1.125e+00 -1.636e+00 -1.929e+00 -2.118e+00 -2.250e+00]\n",
      " [ 0.000e+00  0.000e+00  2.625e-01  4.574e-01  5.975e-01  7.013e-01]\n",
      " [ 0.000e+00  1.110e-16  0.000e+00 -2.197e-02 -4.480e-02 -6.469e-02]\n",
      " [ 0.000e+00 -2.819e-16  0.000e+00  0.000e+00  8.080e-04  1.902e-03]\n",
      " [ 0.000e+00  3.369e-16  0.000e+00 -1.541e-18  2.168e-19 -1.585e-05]] \n",
      "\n",
      "[[3.    3.    3.    3.    3.    3.   ]\n",
      " [3.    1.875 1.364 1.071 0.882 0.75 ]\n",
      " [3.    1.364 0.882 0.652 0.517 0.429]\n",
      " [3.    1.071 0.652 0.469 0.366 0.3  ]\n",
      " [3.    0.882 0.517 0.366 0.283 0.231]\n",
      " [3.    0.75  0.429 0.3   0.231 0.188]]\n"
     ]
    }
   ],
   "source": [
    "L, u = diy_lu(a)\n",
    "\n",
    "print(a)\n",
    "print(L, \"\\n\")\n",
    "print(u, \"\\n\")\n",
    "\n",
    "# Quick sanity check: L times U must equal the original matrix, up to floating-point errors.\n",
    "print(L@u)"
   ]
  },
  {
   "cell_type": "markdown",
   "metadata": {},
   "source": [
    "# II. The need for pivoting"
   ]
  },
  {
   "cell_type": "markdown",
   "metadata": {},
   "source": [
    "Let's tweak the matrix a little bit, we only change a single element:"
   ]
  },
  {
   "cell_type": "code",
   "execution_count": 67,
   "metadata": {},
   "outputs": [
    {
     "name": "stdout",
     "output_type": "stream",
     "text": [
      "[[3.    3.    3.    3.    3.    3.   ]\n",
      " [3.    1.875 1.364 1.071 0.882 0.75 ]\n",
      " [3.    1.364 0.882 0.652 0.517 0.429]\n",
      " [3.    1.071 0.652 0.469 0.366 0.3  ]\n",
      " [3.    0.882 0.517 0.366 0.283 0.231]\n",
      " [3.    0.75  0.429 0.3   0.231 0.188]]\n",
      "[[3.    3.    3.    3.    3.    3.   ]\n",
      " [3.    3.    1.364 1.071 0.882 0.75 ]\n",
      " [3.    1.364 0.882 0.652 0.517 0.429]\n",
      " [3.    1.071 0.652 0.469 0.366 0.3  ]\n",
      " [3.    0.882 0.517 0.366 0.283 0.231]\n",
      " [3.    0.75  0.429 0.3   0.231 0.188]]\n"
     ]
    }
   ],
   "source": [
    "a1 = a.copy()\n",
    "a1[1, 1] = 3\n",
    "print(a)\n",
    "print(a1)"
   ]
  },
  {
   "cell_type": "markdown",
   "metadata": {},
   "source": [
    "Resulting matix still has full rank, but the naive LU routine breaks down."
   ]
  },
  {
   "cell_type": "code",
   "execution_count": 68,
   "metadata": {},
   "outputs": [
    {
     "data": {
      "text/plain": [
       "6"
      ]
     },
     "execution_count": 68,
     "metadata": {},
     "output_type": "execute_result"
    }
   ],
   "source": [
    "np.linalg.matrix_rank(a1)"
   ]
  },
  {
   "cell_type": "code",
   "execution_count": 69,
   "metadata": {},
   "outputs": [
    {
     "name": "stdout",
     "output_type": "stream",
     "text": [
      "[[nan nan nan nan nan nan]\n",
      " [nan nan nan nan nan nan]\n",
      " [nan nan nan nan nan nan]\n",
      " [nan nan nan nan nan nan]\n",
      " [nan nan nan nan nan nan]\n",
      " [nan nan nan nan nan nan]] [[nan nan nan nan nan nan]\n",
      " [nan nan nan nan nan nan]\n",
      " [nan nan nan nan nan nan]\n",
      " [nan nan nan nan nan nan]\n",
      " [nan nan nan nan nan nan]\n",
      " [nan nan nan nan nan nan]]\n"
     ]
    },
    {
     "name": "stderr",
     "output_type": "stream",
     "text": [
      "<ipython-input-63-8918e3eddeb9>:15: RuntimeWarning: divide by zero encountered in true_divide\n",
      "  gamma = u[j+1:, j] / u[j, j]\n",
      "<ipython-input-63-8918e3eddeb9>:17: RuntimeWarning: invalid value encountered in matmul\n",
      "  u = lam @ u\n",
      "<ipython-input-63-8918e3eddeb9>:20: RuntimeWarning: invalid value encountered in matmul\n",
      "  L = L @ lam\n",
      "<ipython-input-63-8918e3eddeb9>:15: RuntimeWarning: invalid value encountered in true_divide\n",
      "  gamma = u[j+1:, j] / u[j, j]\n"
     ]
    }
   ],
   "source": [
    "l, u = diy_lu(a1)\n",
    "\n",
    "print(l, u)"
   ]
  },
  {
   "cell_type": "markdown",
   "metadata": {},
   "source": [
    "### Test II.1\n",
    "\n",
    "For a naive LU decomposition to work, all leading minors of a matrix should be non-zero. Check if this requirement is satisfied for the two matrices `a` and `a1`.\n",
    "\n",
    "(20% of the grade)"
   ]
  },
  {
   "cell_type": "code",
   "execution_count": 70,
   "metadata": {},
   "outputs": [
    {
     "name": "stdout",
     "output_type": "stream",
     "text": [
      "Matrix is valid and ready for LU decomposition!\n",
      "Invalid Matrix leading minors! Implement pivoting!\n"
     ]
    },
    {
     "data": {
      "text/plain": [
       "True"
      ]
     },
     "execution_count": 70,
     "metadata": {},
     "output_type": "execute_result"
    }
   ],
   "source": [
    "# ... ENTER YOUR CODE HERE ...\n",
    "def check_lm(a):\n",
    "    ''' Determine if the matrix has non-zero leading minors\n",
    "    \n",
    "        Creates a submatrix of leading minors and computes determinant. If\n",
    "        one of the determinant values is zero, breaks and tells you. '''\n",
    "    nrows = a.shape[0]\n",
    "    ncols = a.shape[1]\n",
    "    nrows += 1\n",
    "    for i in range(nrows):\n",
    "        if i == 0:\n",
    "            # don't compute a determinant of a 1x1 matrix\n",
    "            # check if the value of a11 is 0\n",
    "            if a[i, i] == 0:\n",
    "                print(\"Invalid Matrix leading minors!\")\n",
    "                return True\n",
    "                break\n",
    "        else:\n",
    "            # create a sub matrix for computation out of leading minors\n",
    "            sub_matrix = a[:i+1, :i+1]\n",
    "            det = np.linalg.det(sub_matrix)\n",
    "            if det == 0:\n",
    "                print(\"Invalid Matrix leading minors! Implement pivoting!\")\n",
    "                return True\n",
    "                break\n",
    "    print(\"Matrix is valid and ready for LU decomposition!\")\n",
    "    return False\n",
    "        \n",
    "check_lm(a)\n",
    "check_lm(a1)"
   ]
  },
  {
   "cell_type": "markdown",
   "metadata": {},
   "source": [
    "### Test II.2\n",
    "\n",
    "Modify the `diy_lu` routine to implement column pivoting. Keep track of pivots, you can either construct a permutation matrix, or a swap array (your choice).\n",
    "\n",
    "(40% of the grade)\n",
    "\n",
    "Implement a function to reconstruct the original matrix from a decompositon. Test your routines on the matrices `a` and `a1`.\n",
    "\n",
    "(40% of the grade)"
   ]
  },
  {
   "cell_type": "code",
   "execution_count": 74,
   "metadata": {},
   "outputs": [
    {
     "name": "stdout",
     "output_type": "stream",
     "text": [
      "[[ 3.000e+00  3.000e+00  3.000e+00  3.000e+00  3.000e+00  3.000e+00]\n",
      " [ 0.000e+00 -2.250e+00 -2.571e+00 -2.700e+00 -2.769e+00 -2.812e+00]\n",
      " [ 0.000e+00  0.000e+00 -1.636e+00 -1.929e+00 -2.118e+00 -2.250e+00]\n",
      " [ 0.000e+00  2.220e-16  0.000e+00 -9.247e-02 -1.485e-01 -1.856e-01]\n",
      " [ 0.000e+00  0.000e+00  0.000e+00  0.000e+00  1.841e-03  3.821e-03]\n",
      " [ 0.000e+00  0.000e+00  2.776e-17  0.000e+00  0.000e+00 -1.233e-05]]\n",
      "Matrix is valid and ready for LU decomposition!\n"
     ]
    },
    {
     "data": {
      "text/plain": [
       "(array([[ 1.000e+00,  0.000e+00,  0.000e+00,  0.000e+00,  0.000e+00,\n",
       "          0.000e+00],\n",
       "        [ 0.000e+00,  1.000e+00,  0.000e+00,  0.000e+00,  0.000e+00,\n",
       "          0.000e+00],\n",
       "        [ 0.000e+00,  0.000e+00,  1.000e+00,  0.000e+00,  0.000e+00,\n",
       "          0.000e+00],\n",
       "        [ 0.000e+00, -9.869e-17,  1.551e-16,  1.000e+00,  0.000e+00,\n",
       "          0.000e+00],\n",
       "        [ 0.000e+00,  0.000e+00,  0.000e+00,  0.000e+00,  1.000e+00,\n",
       "          0.000e+00],\n",
       "        [ 0.000e+00,  0.000e+00, -1.696e-17,  3.537e-16,  9.015e-15,\n",
       "          1.000e+00]]),\n",
       " array([[ 3.000e+00,  3.000e+00,  3.000e+00,  3.000e+00,  3.000e+00,\n",
       "          3.000e+00],\n",
       "        [ 0.000e+00, -2.250e+00, -2.571e+00, -2.700e+00, -2.769e+00,\n",
       "         -2.812e+00],\n",
       "        [ 0.000e+00,  0.000e+00, -1.636e+00, -1.929e+00, -2.118e+00,\n",
       "         -2.250e+00],\n",
       "        [ 0.000e+00,  1.233e-32,  0.000e+00, -9.247e-02, -1.485e-01,\n",
       "         -1.856e-01],\n",
       "        [ 0.000e+00,  0.000e+00,  0.000e+00,  0.000e+00,  1.841e-03,\n",
       "          3.821e-03],\n",
       "        [ 0.000e+00, -4.360e-48,  0.000e+00,  1.689e-33,  0.000e+00,\n",
       "         -1.233e-05]]))"
      ]
     },
     "execution_count": 74,
     "metadata": {},
     "output_type": "execute_result"
    }
   ],
   "source": [
    "# ... ENTER YOUR CODE HERE ...\n",
    "def swap_rows(a, pos1, pos2):\n",
    "    t = a[pos1].copy()\n",
    "    a[pos1] = a[pos2]\n",
    "    a[pos2] = t\n",
    "    \n",
    "def subtract_rows(row, top_row):\n",
    "    return row - (row[0] / top_row[0]) * top_row\n",
    "\n",
    "def pivot(matrix):\n",
    "    pos = np.argmax(list(map(abs, matrix.T[0])))\n",
    "    if pos != 0:\n",
    "        swap_rows(matrix, 0, pos)\n",
    "\n",
    "    matrix[1:,] = np.apply_along_axis(subtract_rows, 1, matrix[1:], matrix[0])\n",
    "\n",
    "    return matrix\n",
    "        \n",
    "def diy_lu_pivot(a):\n",
    "    \"\"\"Construct the LU decomposition of the input matrix.\n",
    "    \n",
    "    Naive LU decomposition: work column by column, accumulate elementary triangular matrices.\n",
    "    Adds column pivoting if required.\n",
    "    \"\"\"\n",
    "    NeedPivot = check_lm(a)\n",
    "    if NeedPivot:\n",
    "        print(\"Implementing pivoting...\")\n",
    "        for i in range(a.shape[0] - 1):\n",
    "            a[i:, i:] = pivot(a[i:, i:])\n",
    "        print(\"Pivoting complete\")\n",
    "        \n",
    "    N = a.shape[0]\n",
    "    u = a.copy()\n",
    "    L = np.eye(N)\n",
    "        \n",
    "    for j in range(N-1):\n",
    "        lam = np.eye(N)\n",
    "        gamma = u[j+1:, j] / u[j, j]\n",
    "        lam[j+1:, j] = -gamma\n",
    "        u = lam @ u\n",
    "\n",
    "        lam[j+1:, j] = gamma\n",
    "        L = L @ lam\n",
    "    return L, u\n",
    "\n",
    "print(a1)\n",
    "diy_lu_pivot(a1)"
   ]
  },
  {
   "cell_type": "code",
   "execution_count": 78,
   "metadata": {},
   "outputs": [
    {
     "name": "stdout",
     "output_type": "stream",
     "text": [
      "Original Matrix:\n",
      "[[ 3.000e+00  3.000e+00  3.000e+00  3.000e+00  3.000e+00  3.000e+00]\n",
      " [ 0.000e+00 -2.250e+00 -2.571e+00 -2.700e+00 -2.769e+00 -2.812e+00]\n",
      " [ 0.000e+00  0.000e+00 -1.636e+00 -1.929e+00 -2.118e+00 -2.250e+00]\n",
      " [ 0.000e+00  2.220e-16  0.000e+00 -9.247e-02 -1.485e-01 -1.856e-01]\n",
      " [ 0.000e+00  0.000e+00  0.000e+00  0.000e+00  1.841e-03  3.821e-03]\n",
      " [ 0.000e+00  0.000e+00  2.776e-17  0.000e+00  0.000e+00 -1.233e-05]]\n",
      "Permutation Matrix:\n",
      "[[1. 0. 0. 0. 0. 0.]\n",
      " [0. 1. 0. 0. 0. 0.]\n",
      " [0. 0. 1. 0. 0. 0.]\n",
      " [0. 0. 0. 1. 0. 0.]\n",
      " [0. 0. 0. 0. 1. 0.]\n",
      " [0. 0. 0. 0. 0. 1.]]\n",
      "Lower Triangular Matrix:\n",
      "[[ 1.000e+00  0.000e+00  0.000e+00  0.000e+00  0.000e+00  0.000e+00]\n",
      " [ 0.000e+00  1.000e+00  0.000e+00  0.000e+00  0.000e+00  0.000e+00]\n",
      " [ 0.000e+00 -0.000e+00  1.000e+00  0.000e+00  0.000e+00  0.000e+00]\n",
      " [ 0.000e+00 -9.869e-17  1.551e-16  1.000e+00  0.000e+00  0.000e+00]\n",
      " [ 0.000e+00 -0.000e+00 -0.000e+00 -0.000e+00  1.000e+00  0.000e+00]\n",
      " [ 0.000e+00 -0.000e+00 -1.696e-17  3.537e-16  9.015e-15  1.000e+00]]\n",
      "Upper Triangular Matrix:\n",
      "[[ 3.000e+00  3.000e+00  3.000e+00  3.000e+00  3.000e+00  3.000e+00]\n",
      " [ 0.000e+00 -2.250e+00 -2.571e+00 -2.700e+00 -2.769e+00 -2.812e+00]\n",
      " [ 0.000e+00  0.000e+00 -1.636e+00 -1.929e+00 -2.118e+00 -2.250e+00]\n",
      " [ 0.000e+00  0.000e+00  0.000e+00 -9.247e-02 -1.485e-01 -1.856e-01]\n",
      " [ 0.000e+00  0.000e+00  0.000e+00  0.000e+00  1.841e-03  3.821e-03]\n",
      " [ 0.000e+00  0.000e+00  0.000e+00  0.000e+00  0.000e+00 -1.233e-05]]\n",
      "Reconstructed Matrix\n"
     ]
    },
    {
     "data": {
      "text/plain": [
       "array([[ 3.000e+00,  3.000e+00,  3.000e+00,  3.000e+00,  3.000e+00,\n",
       "         3.000e+00],\n",
       "       [ 0.000e+00, -2.250e+00, -2.571e+00, -2.700e+00, -2.769e+00,\n",
       "        -2.812e+00],\n",
       "       [ 0.000e+00,  0.000e+00, -1.636e+00, -1.929e+00, -2.118e+00,\n",
       "        -2.250e+00],\n",
       "       [ 0.000e+00,  2.220e-16,  2.469e-32, -9.247e-02, -1.485e-01,\n",
       "        -1.856e-01],\n",
       "       [ 0.000e+00,  0.000e+00,  0.000e+00,  0.000e+00,  1.841e-03,\n",
       "         3.821e-03],\n",
       "       [ 0.000e+00,  0.000e+00,  2.776e-17, -1.689e-33,  1.277e-33,\n",
       "        -1.233e-05]])"
      ]
     },
     "execution_count": 78,
     "metadata": {},
     "output_type": "execute_result"
    }
   ],
   "source": [
    "from scipy.linalg import lu\n",
    "\n",
    "def reconstruct(matrix):\n",
    "    \n",
    "    \"\"\"Reconstruct the Orignial given matrix using scipy.linalg.lu\n",
    "    \n",
    "        Note: Since it was not a requirement to use the orginal diy_lu function,\n",
    "        this method was implemented using library fucntions and recomputes the \n",
    "        LU matrix prior to reconstruction.\n",
    "        \n",
    "        It should also be noted that this function assumes you have provided a \n",
    "        matrix (computed above) and does not check the leading minors.\"\"\" \n",
    "    print(\"Original Matrix:\")\n",
    "    print(matrix)\n",
    "    P, L, U = lu(matrix)\n",
    "    print(\"Permutation Matrix:\")\n",
    "    print(P)\n",
    "    print(\"Lower Triangular Matrix:\")\n",
    "    print(L)\n",
    "    print(\"Upper Triangular Matrix:\")\n",
    "    print(U)\n",
    "    new_matrix = P.dot(L).dot(U)\n",
    "    print(\"Reconstructed Matrix:\")\n",
    "    return new_matrix\n",
    "    \n",
    "reconstruct(a1)"
   ]
  },
  {
   "cell_type": "code",
   "execution_count": null,
   "metadata": {},
   "outputs": [],
   "source": []
  }
 ],
 "metadata": {
  "kernelspec": {
   "display_name": "Python 3",
   "language": "python",
   "name": "python3"
  },
  "language_info": {
   "codemirror_mode": {
    "name": "ipython",
    "version": 3
   },
   "file_extension": ".py",
   "mimetype": "text/x-python",
   "name": "python",
   "nbconvert_exporter": "python",
   "pygments_lexer": "ipython3",
   "version": "3.8.3"
  }
 },
 "nbformat": 4,
 "nbformat_minor": 2
}
